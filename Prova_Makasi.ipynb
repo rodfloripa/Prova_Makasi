{
 "cells": [
  {
   "cell_type": "markdown",
   "id": "2c1a1e62",
   "metadata": {},
   "source": [
    "# Requisitos Técnicos para a entrega do teste"
   ]
  },
  {
   "cell_type": "markdown",
   "id": "88698241",
   "metadata": {},
   "source": [
    "Requisitos Técnicos para a entrega do teste\n",
    "\n",
    "• Sugerimos a utilização de Python para o desenvolvimento do código.\n",
    "\n",
    "Foi usado python\n",
    "\n",
    "\n",
    "\n",
    "• Utilize seus padrões de organização de projeto, documentação e código.\n",
    "\n",
    "O código está documentado e organizado\n",
    "\n",
    "\n",
    "\n",
    "• Pode ser utilizada qualquer lib adicional que julgar importante para o bom funcionamento da exploração dos datasets, mas não se esqueça de dar as orientações de instalação delas (caso seja necessário).\n",
    "\n",
    "As bibliotecas estão em requirements.txt\n",
    "\n",
    "\n",
    "\n",
    "• Caso haja uma aplicação em código, está será rodada em localhost.\n",
    "\n",
    "Roda local desde que voce tenha jupyter instalado: https://jupyter.org/install\n",
    "\n",
    "\n",
    "\n",
    "• Ainda na documentação, explicar a sua motivação de escolha das libs e frameworks (ou o motivo de ter feito na mão). Uma explicação sobre a estrutura do projeto também será bem vinda.\n",
    "\n",
    "Foram usadas as bibliotecas mais comuns para analise de dados em python,como pandas,numpy,sklearn e statsmodels\n",
    "\n",
    "\n",
    "\n",
    "• É imprescindível que caso use código para executar o teste, este funcione corretamente em qualquer máquina.\n",
    "\n",
    "Foi fornecido o arquivo requirements.txt para que rode em qualquer máquina\n",
    "\n",
    "\n",
    "\n",
    "• Documentos adicionais (PDF, PowerPoint, Planilhas e etc) ao teste devem ser compartilhados e enviados para fabiane+dados@makasi.com.br\n",
    "\n",
    "Não existem documentos adicionais"
   ]
  },
  {
   "cell_type": "markdown",
   "id": "dc2e9f01",
   "metadata": {},
   "source": [
    "# Leitura e Tratamento de Dados"
   ]
  },
  {
   "cell_type": "markdown",
   "id": "b2a69f17",
   "metadata": {},
   "source": [
    "## Tratamento da amostra 1"
   ]
  },
  {
   "cell_type": "code",
   "execution_count": 24,
   "id": "993ce6a2",
   "metadata": {},
   "outputs": [
    {
     "name": "stdout",
     "output_type": "stream",
     "text": [
      "Requirement already satisfied: openpyxl in /opt/conda/lib/python3.7/site-packages (3.1.2)\n",
      "Requirement already satisfied: et-xmlfile in /opt/conda/lib/python3.7/site-packages (from openpyxl) (1.1.0)\n",
      "\u001b[33mWARNING: Running pip as the 'root' user can result in broken permissions and conflicting behaviour with the system package manager. It is recommended to use a virtual environment instead: https://pip.pypa.io/warnings/venv\u001b[0m\u001b[33m\n",
      "\u001b[0m\n",
      "\u001b[1m[\u001b[0m\u001b[34;49mnotice\u001b[0m\u001b[1;39;49m]\u001b[0m\u001b[39;49m A new release of pip is available: \u001b[0m\u001b[31;49m23.1.2\u001b[0m\u001b[39;49m -> \u001b[0m\u001b[32;49m24.0\u001b[0m\n",
      "\u001b[1m[\u001b[0m\u001b[34;49mnotice\u001b[0m\u001b[1;39;49m]\u001b[0m\u001b[39;49m To update, run: \u001b[0m\u001b[32;49mpip install --upgrade pip\u001b[0m\n"
     ]
    }
   ],
   "source": [
    "!pip install openpyxl"
   ]
  },
  {
   "cell_type": "code",
   "execution_count": 25,
   "id": "e1bb887e",
   "metadata": {},
   "outputs": [],
   "source": [
    "import pandas as pd\n",
    "import numpy as np\n",
    "import warnings\n",
    "warnings.filterwarnings('ignore')"
   ]
  },
  {
   "cell_type": "code",
   "execution_count": 26,
   "id": "65e12237",
   "metadata": {},
   "outputs": [
    {
     "data": {
      "text/html": [
       "<div>\n",
       "<style scoped>\n",
       "    .dataframe tbody tr th:only-of-type {\n",
       "        vertical-align: middle;\n",
       "    }\n",
       "\n",
       "    .dataframe tbody tr th {\n",
       "        vertical-align: top;\n",
       "    }\n",
       "\n",
       "    .dataframe thead th {\n",
       "        text-align: right;\n",
       "    }\n",
       "</style>\n",
       "<table border=\"1\" class=\"dataframe\">\n",
       "  <thead>\n",
       "    <tr style=\"text-align: right;\">\n",
       "      <th></th>\n",
       "      <th>Unnamed: 13</th>\n",
       "    </tr>\n",
       "  </thead>\n",
       "  <tbody>\n",
       "    <tr>\n",
       "      <th>11</th>\n",
       "      <td>Total</td>\n",
       "    </tr>\n",
       "    <tr>\n",
       "      <th>12</th>\n",
       "      <td>R$  8.086,25</td>\n",
       "    </tr>\n",
       "    <tr>\n",
       "      <th>13</th>\n",
       "      <td>R$  3.000,00</td>\n",
       "    </tr>\n",
       "    <tr>\n",
       "      <th>14</th>\n",
       "      <td>R$  3.000,00</td>\n",
       "    </tr>\n",
       "    <tr>\n",
       "      <th>15</th>\n",
       "      <td>R$  1.200,00</td>\n",
       "    </tr>\n",
       "    <tr>\n",
       "      <th>...</th>\n",
       "      <td>...</td>\n",
       "    </tr>\n",
       "    <tr>\n",
       "      <th>158</th>\n",
       "      <td>R$  912,85</td>\n",
       "    </tr>\n",
       "    <tr>\n",
       "      <th>159</th>\n",
       "      <td>R$  912,85</td>\n",
       "    </tr>\n",
       "    <tr>\n",
       "      <th>160</th>\n",
       "      <td>R$  502,85</td>\n",
       "    </tr>\n",
       "    <tr>\n",
       "      <th>161</th>\n",
       "      <td>R$  150,00</td>\n",
       "    </tr>\n",
       "    <tr>\n",
       "      <th>162</th>\n",
       "      <td>R$  260,00</td>\n",
       "    </tr>\n",
       "  </tbody>\n",
       "</table>\n",
       "<p>152 rows × 1 columns</p>\n",
       "</div>"
      ],
      "text/plain": [
       "        Unnamed: 13\n",
       "11            Total\n",
       "12    R$  8.086,25 \n",
       "13    R$  3.000,00 \n",
       "14    R$  3.000,00 \n",
       "15    R$  1.200,00 \n",
       "..              ...\n",
       "158     R$  912,85 \n",
       "159     R$  912,85 \n",
       "160     R$  502,85 \n",
       "161     R$  150,00 \n",
       "162     R$  260,00 \n",
       "\n",
       "[152 rows x 1 columns]"
      ]
     },
     "execution_count": 26,
     "metadata": {},
     "output_type": "execute_result"
    }
   ],
   "source": [
    "proj1 = pd.read_csv('amostra_projeto1.csv')\n",
    "proj1 = proj1['Unnamed: 13'].tail(152)\n",
    "proj1 = pd.DataFrame(proj1)\n",
    "proj1"
   ]
  },
  {
   "cell_type": "code",
   "execution_count": 27,
   "id": "ddccba85",
   "metadata": {},
   "outputs": [],
   "source": [
    "proj1 = proj1.replace('Total',0)\n",
    "df1 = proj1.replace('[R$]', '', regex=True).astype(str)\n",
    "df1['Unnamed: 13'] = df1['Unnamed: 13'].str.strip()\n",
    "df1['Unnamed: 13'] = df1['Unnamed: 13'].str.replace('.','')\n",
    "df1['Unnamed: 13'] = df1['Unnamed: 13'].str.replace(',','.')\n",
    "df1 = df1['Unnamed: 13'].astype(str).astype(float)\n",
    "valor = np.round(df1.sum(),1)"
   ]
  },
  {
   "cell_type": "code",
   "execution_count": 28,
   "id": "594bd0ad",
   "metadata": {},
   "outputs": [],
   "source": [
    "proj1 = pd.read_csv('amostra_projeto1.csv').head(8)\n",
    "proj1 = proj1[['DADOS','Unnamed: 1']].tail(7)\n",
    "df2 = {'DADOS':'Valor','Unnamed: 1': valor}\n",
    "proj1 = proj1.append(df2, ignore_index = True)\n",
    "proj1 = proj1.rename(columns={'Unnamed: 1': 'X'}) "
   ]
  },
  {
   "cell_type": "code",
   "execution_count": 29,
   "id": "e1a380ea",
   "metadata": {},
   "outputs": [
    {
     "data": {
      "text/html": [
       "<div>\n",
       "<style scoped>\n",
       "    .dataframe tbody tr th:only-of-type {\n",
       "        vertical-align: middle;\n",
       "    }\n",
       "\n",
       "    .dataframe tbody tr th {\n",
       "        vertical-align: top;\n",
       "    }\n",
       "\n",
       "    .dataframe thead th {\n",
       "        text-align: right;\n",
       "    }\n",
       "</style>\n",
       "<table border=\"1\" class=\"dataframe\">\n",
       "  <thead>\n",
       "    <tr style=\"text-align: right;\">\n",
       "      <th></th>\n",
       "      <th>DADOS</th>\n",
       "      <th>X</th>\n",
       "    </tr>\n",
       "  </thead>\n",
       "  <tbody>\n",
       "    <tr>\n",
       "      <th>0</th>\n",
       "      <td>Tipologia</td>\n",
       "      <td>Térrea</td>\n",
       "    </tr>\n",
       "    <tr>\n",
       "      <th>1</th>\n",
       "      <td>Área Terreno</td>\n",
       "      <td>485,00</td>\n",
       "    </tr>\n",
       "    <tr>\n",
       "      <th>2</th>\n",
       "      <td>Área Construída</td>\n",
       "      <td>246,63</td>\n",
       "    </tr>\n",
       "    <tr>\n",
       "      <th>3</th>\n",
       "      <td>Área Fundação</td>\n",
       "      <td>237,98</td>\n",
       "    </tr>\n",
       "    <tr>\n",
       "      <th>4</th>\n",
       "      <td>Área Fachada</td>\n",
       "      <td>597,88</td>\n",
       "    </tr>\n",
       "    <tr>\n",
       "      <th>5</th>\n",
       "      <td>Área Parede</td>\n",
       "      <td>615,86</td>\n",
       "    </tr>\n",
       "    <tr>\n",
       "      <th>6</th>\n",
       "      <td>Qtde BWCs</td>\n",
       "      <td>5,00</td>\n",
       "    </tr>\n",
       "    <tr>\n",
       "      <th>7</th>\n",
       "      <td>Valor</td>\n",
       "      <td>3155184.5</td>\n",
       "    </tr>\n",
       "  </tbody>\n",
       "</table>\n",
       "</div>"
      ],
      "text/plain": [
       "             DADOS          X\n",
       "0        Tipologia     Térrea\n",
       "1     Área Terreno     485,00\n",
       "2  Área Construída     246,63\n",
       "3    Área Fundação     237,98\n",
       "4     Área Fachada     597,88\n",
       "5      Área Parede     615,86\n",
       "6        Qtde BWCs       5,00\n",
       "7            Valor  3155184.5"
      ]
     },
     "execution_count": 29,
     "metadata": {},
     "output_type": "execute_result"
    }
   ],
   "source": [
    "proj1"
   ]
  },
  {
   "cell_type": "markdown",
   "id": "d388eaba",
   "metadata": {},
   "source": [
    "## Tratamento da amostra 2"
   ]
  },
  {
   "cell_type": "code",
   "execution_count": 30,
   "id": "d090edce",
   "metadata": {},
   "outputs": [
    {
     "data": {
      "text/html": [
       "<div>\n",
       "<style scoped>\n",
       "    .dataframe tbody tr th:only-of-type {\n",
       "        vertical-align: middle;\n",
       "    }\n",
       "\n",
       "    .dataframe tbody tr th {\n",
       "        vertical-align: top;\n",
       "    }\n",
       "\n",
       "    .dataframe thead th {\n",
       "        text-align: right;\n",
       "    }\n",
       "</style>\n",
       "<table border=\"1\" class=\"dataframe\">\n",
       "  <thead>\n",
       "    <tr style=\"text-align: right;\">\n",
       "      <th></th>\n",
       "      <th>Unnamed: 13</th>\n",
       "    </tr>\n",
       "  </thead>\n",
       "  <tbody>\n",
       "    <tr>\n",
       "      <th>11</th>\n",
       "      <td>Total</td>\n",
       "    </tr>\n",
       "    <tr>\n",
       "      <th>12</th>\n",
       "      <td>R$  8.086,25</td>\n",
       "    </tr>\n",
       "    <tr>\n",
       "      <th>13</th>\n",
       "      <td>R$  3.000,00</td>\n",
       "    </tr>\n",
       "    <tr>\n",
       "      <th>14</th>\n",
       "      <td>R$  3.000,00</td>\n",
       "    </tr>\n",
       "    <tr>\n",
       "      <th>15</th>\n",
       "      <td>R$  1.200,00</td>\n",
       "    </tr>\n",
       "    <tr>\n",
       "      <th>...</th>\n",
       "      <td>...</td>\n",
       "    </tr>\n",
       "    <tr>\n",
       "      <th>168</th>\n",
       "      <td>R$  912,85</td>\n",
       "    </tr>\n",
       "    <tr>\n",
       "      <th>169</th>\n",
       "      <td>R$  912,85</td>\n",
       "    </tr>\n",
       "    <tr>\n",
       "      <th>170</th>\n",
       "      <td>R$  502,85</td>\n",
       "    </tr>\n",
       "    <tr>\n",
       "      <th>171</th>\n",
       "      <td>R$  150,00</td>\n",
       "    </tr>\n",
       "    <tr>\n",
       "      <th>172</th>\n",
       "      <td>R$  260,00</td>\n",
       "    </tr>\n",
       "  </tbody>\n",
       "</table>\n",
       "<p>162 rows × 1 columns</p>\n",
       "</div>"
      ],
      "text/plain": [
       "        Unnamed: 13\n",
       "11            Total\n",
       "12    R$  8.086,25 \n",
       "13    R$  3.000,00 \n",
       "14    R$  3.000,00 \n",
       "15    R$  1.200,00 \n",
       "..              ...\n",
       "168     R$  912,85 \n",
       "169     R$  912,85 \n",
       "170     R$  502,85 \n",
       "171     R$  150,00 \n",
       "172     R$  260,00 \n",
       "\n",
       "[162 rows x 1 columns]"
      ]
     },
     "execution_count": 30,
     "metadata": {},
     "output_type": "execute_result"
    }
   ],
   "source": [
    "proj2 = pd.read_csv('amostra_projeto_2.csv')\n",
    "proj2 = proj2['Unnamed: 13'].tail(162)\n",
    "proj2 = pd.DataFrame(proj2)\n",
    "proj2"
   ]
  },
  {
   "cell_type": "code",
   "execution_count": 31,
   "id": "9ee827e7",
   "metadata": {},
   "outputs": [],
   "source": [
    "proj2 = proj2.replace('Total',0)\n",
    "df2 = proj2.replace('[R$]', '', regex=True).astype(str)\n",
    "df2['Unnamed: 13'] = df2['Unnamed: 13'].str.strip()\n",
    "df2['Unnamed: 13'] = df2['Unnamed: 13'].str.replace('.','')\n",
    "df2['Unnamed: 13'] = df2['Unnamed: 13'].str.replace(',','.')\n",
    "df2 = df2['Unnamed: 13'].astype(str).astype(float)\n",
    "valor = np.round(df2.sum(),1)"
   ]
  },
  {
   "cell_type": "code",
   "execution_count": 32,
   "id": "bd1774cd",
   "metadata": {},
   "outputs": [],
   "source": [
    "proj2 = pd.read_csv('amostra_projeto_2.csv').head(8)\n",
    "proj2 = proj2[['DADOS','Unnamed: 1']].tail(7)\n",
    "df2 = {'DADOS':'Valor','Unnamed: 1': valor}\n",
    "proj2 = proj2.append(df2, ignore_index = True)\n",
    "proj2 = proj2.rename(columns={'Unnamed: 1': 'Y'}) "
   ]
  },
  {
   "cell_type": "code",
   "execution_count": 33,
   "id": "3894e5ad",
   "metadata": {},
   "outputs": [
    {
     "data": {
      "text/html": [
       "<div>\n",
       "<style scoped>\n",
       "    .dataframe tbody tr th:only-of-type {\n",
       "        vertical-align: middle;\n",
       "    }\n",
       "\n",
       "    .dataframe tbody tr th {\n",
       "        vertical-align: top;\n",
       "    }\n",
       "\n",
       "    .dataframe thead th {\n",
       "        text-align: right;\n",
       "    }\n",
       "</style>\n",
       "<table border=\"1\" class=\"dataframe\">\n",
       "  <thead>\n",
       "    <tr style=\"text-align: right;\">\n",
       "      <th></th>\n",
       "      <th>DADOS</th>\n",
       "      <th>Y</th>\n",
       "    </tr>\n",
       "  </thead>\n",
       "  <tbody>\n",
       "    <tr>\n",
       "      <th>0</th>\n",
       "      <td>Tipologia</td>\n",
       "      <td>Sobrado</td>\n",
       "    </tr>\n",
       "    <tr>\n",
       "      <th>1</th>\n",
       "      <td>Área Terreno</td>\n",
       "      <td>300,00</td>\n",
       "    </tr>\n",
       "    <tr>\n",
       "      <th>2</th>\n",
       "      <td>Área Construída</td>\n",
       "      <td>249,24</td>\n",
       "    </tr>\n",
       "    <tr>\n",
       "      <th>3</th>\n",
       "      <td>Área Fundação</td>\n",
       "      <td>161,55</td>\n",
       "    </tr>\n",
       "    <tr>\n",
       "      <th>4</th>\n",
       "      <td>Área Fachada</td>\n",
       "      <td>747,17</td>\n",
       "    </tr>\n",
       "    <tr>\n",
       "      <th>5</th>\n",
       "      <td>Área Parede</td>\n",
       "      <td>662,06</td>\n",
       "    </tr>\n",
       "    <tr>\n",
       "      <th>6</th>\n",
       "      <td>Qtde BWCs</td>\n",
       "      <td>4,00</td>\n",
       "    </tr>\n",
       "    <tr>\n",
       "      <th>7</th>\n",
       "      <td>Valor</td>\n",
       "      <td>2570902.0</td>\n",
       "    </tr>\n",
       "  </tbody>\n",
       "</table>\n",
       "</div>"
      ],
      "text/plain": [
       "             DADOS          Y\n",
       "0        Tipologia    Sobrado\n",
       "1     Área Terreno     300,00\n",
       "2  Área Construída     249,24\n",
       "3    Área Fundação     161,55\n",
       "4     Área Fachada     747,17\n",
       "5      Área Parede     662,06\n",
       "6        Qtde BWCs       4,00\n",
       "7            Valor  2570902.0"
      ]
     },
     "execution_count": 33,
     "metadata": {},
     "output_type": "execute_result"
    }
   ],
   "source": [
    "proj2"
   ]
  },
  {
   "cell_type": "markdown",
   "id": "a502dfed",
   "metadata": {},
   "source": [
    "## Tratamento da amostra 3"
   ]
  },
  {
   "cell_type": "code",
   "execution_count": 34,
   "id": "b0c01627",
   "metadata": {},
   "outputs": [
    {
     "data": {
      "text/html": [
       "<div>\n",
       "<style scoped>\n",
       "    .dataframe tbody tr th:only-of-type {\n",
       "        vertical-align: middle;\n",
       "    }\n",
       "\n",
       "    .dataframe tbody tr th {\n",
       "        vertical-align: top;\n",
       "    }\n",
       "\n",
       "    .dataframe thead th {\n",
       "        text-align: right;\n",
       "    }\n",
       "</style>\n",
       "<table border=\"1\" class=\"dataframe\">\n",
       "  <thead>\n",
       "    <tr style=\"text-align: right;\">\n",
       "      <th></th>\n",
       "      <th>Unnamed: 13</th>\n",
       "    </tr>\n",
       "  </thead>\n",
       "  <tbody>\n",
       "    <tr>\n",
       "      <th>11</th>\n",
       "      <td>Total</td>\n",
       "    </tr>\n",
       "    <tr>\n",
       "      <th>12</th>\n",
       "      <td>R$  9.286,25</td>\n",
       "    </tr>\n",
       "    <tr>\n",
       "      <th>13</th>\n",
       "      <td>R$  3.000,00</td>\n",
       "    </tr>\n",
       "    <tr>\n",
       "      <th>14</th>\n",
       "      <td>R$  3.000,00</td>\n",
       "    </tr>\n",
       "    <tr>\n",
       "      <th>15</th>\n",
       "      <td>R$  2.400,00</td>\n",
       "    </tr>\n",
       "    <tr>\n",
       "      <th>...</th>\n",
       "      <td>...</td>\n",
       "    </tr>\n",
       "    <tr>\n",
       "      <th>163</th>\n",
       "      <td>R$  912,85</td>\n",
       "    </tr>\n",
       "    <tr>\n",
       "      <th>164</th>\n",
       "      <td>R$  912,85</td>\n",
       "    </tr>\n",
       "    <tr>\n",
       "      <th>165</th>\n",
       "      <td>R$  502,85</td>\n",
       "    </tr>\n",
       "    <tr>\n",
       "      <th>166</th>\n",
       "      <td>R$  150,00</td>\n",
       "    </tr>\n",
       "    <tr>\n",
       "      <th>167</th>\n",
       "      <td>R$  260,00</td>\n",
       "    </tr>\n",
       "  </tbody>\n",
       "</table>\n",
       "<p>157 rows × 1 columns</p>\n",
       "</div>"
      ],
      "text/plain": [
       "        Unnamed: 13\n",
       "11            Total\n",
       "12    R$  9.286,25 \n",
       "13    R$  3.000,00 \n",
       "14    R$  3.000,00 \n",
       "15    R$  2.400,00 \n",
       "..              ...\n",
       "163     R$  912,85 \n",
       "164     R$  912,85 \n",
       "165     R$  502,85 \n",
       "166     R$  150,00 \n",
       "167     R$  260,00 \n",
       "\n",
       "[157 rows x 1 columns]"
      ]
     },
     "execution_count": 34,
     "metadata": {},
     "output_type": "execute_result"
    }
   ],
   "source": [
    "proj3 = pd.read_csv('amostra_projeto_3.csv')\n",
    "proj3 = proj3['Unnamed: 13'].tail(157)\n",
    "proj3 = pd.DataFrame(proj3)\n",
    "proj3"
   ]
  },
  {
   "cell_type": "code",
   "execution_count": 35,
   "id": "4e2a4473",
   "metadata": {},
   "outputs": [],
   "source": [
    "proj3 = proj3.replace(' Total',0)\n",
    "df3 = proj3.replace('[R$]', '', regex=True).astype(str)\n",
    "df3['Unnamed: 13'] = df3['Unnamed: 13'].str.strip()\n",
    "df3['Unnamed: 13'] = df3['Unnamed: 13'].str.replace('.','')\n",
    "df3['Unnamed: 13'] = df3['Unnamed: 13'].str.replace(',','.')\n",
    "df3 = df3['Unnamed: 13'].astype(str).astype(float)\n",
    "valor = np.round(df3.sum(),1)"
   ]
  },
  {
   "cell_type": "code",
   "execution_count": 36,
   "id": "4ff46163",
   "metadata": {},
   "outputs": [],
   "source": [
    "proj3 = pd.read_csv('amostra_projeto_3.csv').head(8)\n",
    "proj3 = proj3[['DADOS','Unnamed: 1']].tail(7)\n",
    "df2 = {'DADOS':'Valor','Unnamed: 1': valor}\n",
    "proj3 = proj3.append(df2, ignore_index = True)\n",
    "proj3 = proj3.rename(columns={'Unnamed: 1': 'Z'}) "
   ]
  },
  {
   "cell_type": "code",
   "execution_count": 37,
   "id": "78adfbac",
   "metadata": {},
   "outputs": [
    {
     "data": {
      "text/html": [
       "<div>\n",
       "<style scoped>\n",
       "    .dataframe tbody tr th:only-of-type {\n",
       "        vertical-align: middle;\n",
       "    }\n",
       "\n",
       "    .dataframe tbody tr th {\n",
       "        vertical-align: top;\n",
       "    }\n",
       "\n",
       "    .dataframe thead th {\n",
       "        text-align: right;\n",
       "    }\n",
       "</style>\n",
       "<table border=\"1\" class=\"dataframe\">\n",
       "  <thead>\n",
       "    <tr style=\"text-align: right;\">\n",
       "      <th></th>\n",
       "      <th>DADOS</th>\n",
       "      <th>Z</th>\n",
       "    </tr>\n",
       "  </thead>\n",
       "  <tbody>\n",
       "    <tr>\n",
       "      <th>0</th>\n",
       "      <td>Tipologia</td>\n",
       "      <td>Sobrado</td>\n",
       "    </tr>\n",
       "    <tr>\n",
       "      <th>1</th>\n",
       "      <td>Área Terreno</td>\n",
       "      <td>500,00</td>\n",
       "    </tr>\n",
       "    <tr>\n",
       "      <th>2</th>\n",
       "      <td>Área Construída</td>\n",
       "      <td>425,00</td>\n",
       "    </tr>\n",
       "    <tr>\n",
       "      <th>3</th>\n",
       "      <td>Área Fundação</td>\n",
       "      <td>378,31</td>\n",
       "    </tr>\n",
       "    <tr>\n",
       "      <th>4</th>\n",
       "      <td>Área Fachada</td>\n",
       "      <td>521,67</td>\n",
       "    </tr>\n",
       "    <tr>\n",
       "      <th>5</th>\n",
       "      <td>Área Parede</td>\n",
       "      <td>581,76</td>\n",
       "    </tr>\n",
       "    <tr>\n",
       "      <th>6</th>\n",
       "      <td>Qtde BWCs</td>\n",
       "      <td>6,00</td>\n",
       "    </tr>\n",
       "    <tr>\n",
       "      <th>7</th>\n",
       "      <td>Valor</td>\n",
       "      <td>4569025.2</td>\n",
       "    </tr>\n",
       "  </tbody>\n",
       "</table>\n",
       "</div>"
      ],
      "text/plain": [
       "             DADOS          Z\n",
       "0        Tipologia    Sobrado\n",
       "1     Área Terreno     500,00\n",
       "2  Área Construída     425,00\n",
       "3    Área Fundação     378,31\n",
       "4     Área Fachada     521,67\n",
       "5      Área Parede     581,76\n",
       "6        Qtde BWCs       6,00\n",
       "7            Valor  4569025.2"
      ]
     },
     "execution_count": 37,
     "metadata": {},
     "output_type": "execute_result"
    }
   ],
   "source": [
    "proj3"
   ]
  },
  {
   "cell_type": "code",
   "execution_count": null,
   "id": "c6364ba0",
   "metadata": {},
   "outputs": [],
   "source": []
  },
  {
   "cell_type": "markdown",
   "id": "4c146f10",
   "metadata": {},
   "source": [
    "## Tratamento da amostra 4"
   ]
  },
  {
   "cell_type": "code",
   "execution_count": 38,
   "id": "357b97da",
   "metadata": {},
   "outputs": [
    {
     "data": {
      "text/html": [
       "<div>\n",
       "<style scoped>\n",
       "    .dataframe tbody tr th:only-of-type {\n",
       "        vertical-align: middle;\n",
       "    }\n",
       "\n",
       "    .dataframe tbody tr th {\n",
       "        vertical-align: top;\n",
       "    }\n",
       "\n",
       "    .dataframe thead th {\n",
       "        text-align: right;\n",
       "    }\n",
       "</style>\n",
       "<table border=\"1\" class=\"dataframe\">\n",
       "  <thead>\n",
       "    <tr style=\"text-align: right;\">\n",
       "      <th></th>\n",
       "      <th>Unnamed: 13</th>\n",
       "    </tr>\n",
       "  </thead>\n",
       "  <tbody>\n",
       "    <tr>\n",
       "      <th>11</th>\n",
       "      <td>Total</td>\n",
       "    </tr>\n",
       "    <tr>\n",
       "      <th>12</th>\n",
       "      <td>8086.25</td>\n",
       "    </tr>\n",
       "    <tr>\n",
       "      <th>13</th>\n",
       "      <td>3000</td>\n",
       "    </tr>\n",
       "    <tr>\n",
       "      <th>14</th>\n",
       "      <td>3000</td>\n",
       "    </tr>\n",
       "    <tr>\n",
       "      <th>15</th>\n",
       "      <td>1200</td>\n",
       "    </tr>\n",
       "    <tr>\n",
       "      <th>...</th>\n",
       "      <td>...</td>\n",
       "    </tr>\n",
       "    <tr>\n",
       "      <th>158</th>\n",
       "      <td>912.85</td>\n",
       "    </tr>\n",
       "    <tr>\n",
       "      <th>159</th>\n",
       "      <td>912.85</td>\n",
       "    </tr>\n",
       "    <tr>\n",
       "      <th>160</th>\n",
       "      <td>502.85</td>\n",
       "    </tr>\n",
       "    <tr>\n",
       "      <th>161</th>\n",
       "      <td>150</td>\n",
       "    </tr>\n",
       "    <tr>\n",
       "      <th>162</th>\n",
       "      <td>260</td>\n",
       "    </tr>\n",
       "  </tbody>\n",
       "</table>\n",
       "<p>152 rows × 1 columns</p>\n",
       "</div>"
      ],
      "text/plain": [
       "    Unnamed: 13\n",
       "11        Total\n",
       "12      8086.25\n",
       "13         3000\n",
       "14         3000\n",
       "15         1200\n",
       "..          ...\n",
       "158      912.85\n",
       "159      912.85\n",
       "160      502.85\n",
       "161         150\n",
       "162         260\n",
       "\n",
       "[152 rows x 1 columns]"
      ]
     },
     "execution_count": 38,
     "metadata": {},
     "output_type": "execute_result"
    }
   ],
   "source": [
    "proj4 = pd.read_excel('amostras_projetos.xlsx',engine='openpyxl')\n",
    "proj4 = proj4['Unnamed: 13'].tail(152)\n",
    "proj4 = pd.DataFrame(proj4)\n",
    "proj4"
   ]
  },
  {
   "cell_type": "code",
   "execution_count": 39,
   "id": "665cc30a",
   "metadata": {},
   "outputs": [],
   "source": [
    "proj4 = proj4.replace('Total',0)\n",
    "df4 = proj4.replace('[R$]', '', regex=True).astype(str)\n",
    "df4['Unnamed: 13'] = df4['Unnamed: 13'].str.strip()\n",
    "df4 = df4['Unnamed: 13'].astype(str).astype(float)\n",
    "valor = np.round(df4.sum(),1)"
   ]
  },
  {
   "cell_type": "code",
   "execution_count": 40,
   "id": "589261ea",
   "metadata": {},
   "outputs": [],
   "source": [
    "proj4 = pd.read_csv('amostra_projeto_3.csv').head(8)\n",
    "proj4 = proj4[['DADOS','Unnamed: 1']].tail(7)\n",
    "df2 = {'DADOS':'Valor','Unnamed: 1': valor}\n",
    "proj4 = proj4.append(df2, ignore_index = True)\n",
    "proj4 = proj4.rename(columns={'Unnamed: 1': 'Z1'}) "
   ]
  },
  {
   "cell_type": "code",
   "execution_count": 41,
   "id": "eb8a479d",
   "metadata": {},
   "outputs": [
    {
     "data": {
      "text/html": [
       "<div>\n",
       "<style scoped>\n",
       "    .dataframe tbody tr th:only-of-type {\n",
       "        vertical-align: middle;\n",
       "    }\n",
       "\n",
       "    .dataframe tbody tr th {\n",
       "        vertical-align: top;\n",
       "    }\n",
       "\n",
       "    .dataframe thead th {\n",
       "        text-align: right;\n",
       "    }\n",
       "</style>\n",
       "<table border=\"1\" class=\"dataframe\">\n",
       "  <thead>\n",
       "    <tr style=\"text-align: right;\">\n",
       "      <th></th>\n",
       "      <th>DADOS</th>\n",
       "      <th>Z1</th>\n",
       "    </tr>\n",
       "  </thead>\n",
       "  <tbody>\n",
       "    <tr>\n",
       "      <th>0</th>\n",
       "      <td>Tipologia</td>\n",
       "      <td>Sobrado</td>\n",
       "    </tr>\n",
       "    <tr>\n",
       "      <th>1</th>\n",
       "      <td>Área Terreno</td>\n",
       "      <td>500,00</td>\n",
       "    </tr>\n",
       "    <tr>\n",
       "      <th>2</th>\n",
       "      <td>Área Construída</td>\n",
       "      <td>425,00</td>\n",
       "    </tr>\n",
       "    <tr>\n",
       "      <th>3</th>\n",
       "      <td>Área Fundação</td>\n",
       "      <td>378,31</td>\n",
       "    </tr>\n",
       "    <tr>\n",
       "      <th>4</th>\n",
       "      <td>Área Fachada</td>\n",
       "      <td>521,67</td>\n",
       "    </tr>\n",
       "    <tr>\n",
       "      <th>5</th>\n",
       "      <td>Área Parede</td>\n",
       "      <td>581,76</td>\n",
       "    </tr>\n",
       "    <tr>\n",
       "      <th>6</th>\n",
       "      <td>Qtde BWCs</td>\n",
       "      <td>6,00</td>\n",
       "    </tr>\n",
       "    <tr>\n",
       "      <th>7</th>\n",
       "      <td>Valor</td>\n",
       "      <td>3155184.5</td>\n",
       "    </tr>\n",
       "  </tbody>\n",
       "</table>\n",
       "</div>"
      ],
      "text/plain": [
       "             DADOS         Z1\n",
       "0        Tipologia    Sobrado\n",
       "1     Área Terreno     500,00\n",
       "2  Área Construída     425,00\n",
       "3    Área Fundação     378,31\n",
       "4     Área Fachada     521,67\n",
       "5      Área Parede     581,76\n",
       "6        Qtde BWCs       6,00\n",
       "7            Valor  3155184.5"
      ]
     },
     "execution_count": 41,
     "metadata": {},
     "output_type": "execute_result"
    }
   ],
   "source": [
    "proj4"
   ]
  },
  {
   "cell_type": "markdown",
   "id": "17ea445b",
   "metadata": {},
   "source": [
    "## Amostra de previsão"
   ]
  },
  {
   "cell_type": "code",
   "execution_count": 42,
   "id": "09353beb",
   "metadata": {},
   "outputs": [
    {
     "data": {
      "text/html": [
       "<div>\n",
       "<style scoped>\n",
       "    .dataframe tbody tr th:only-of-type {\n",
       "        vertical-align: middle;\n",
       "    }\n",
       "\n",
       "    .dataframe tbody tr th {\n",
       "        vertical-align: top;\n",
       "    }\n",
       "\n",
       "    .dataframe thead th {\n",
       "        text-align: right;\n",
       "    }\n",
       "</style>\n",
       "<table border=\"1\" class=\"dataframe\">\n",
       "  <thead>\n",
       "    <tr style=\"text-align: right;\">\n",
       "      <th></th>\n",
       "      <th>0</th>\n",
       "      <th>1</th>\n",
       "      <th>2</th>\n",
       "      <th>3</th>\n",
       "      <th>4</th>\n",
       "      <th>5</th>\n",
       "      <th>6</th>\n",
       "      <th>7</th>\n",
       "    </tr>\n",
       "  </thead>\n",
       "  <tbody>\n",
       "    <tr>\n",
       "      <th>DADOS</th>\n",
       "      <td>Titulo</td>\n",
       "      <td>Tipologia</td>\n",
       "      <td>Área Terreno</td>\n",
       "      <td>Área Construída</td>\n",
       "      <td>Área Fundação</td>\n",
       "      <td>Área Fachada</td>\n",
       "      <td>Área Parede</td>\n",
       "      <td>Qtde BWCs</td>\n",
       "    </tr>\n",
       "    <tr>\n",
       "      <th>Unnamed: 1</th>\n",
       "      <td>Projeto 4 - Je3</td>\n",
       "      <td>2</td>\n",
       "      <td>250.00</td>\n",
       "      <td>257.00</td>\n",
       "      <td>221.36</td>\n",
       "      <td>430.11</td>\n",
       "      <td>547.27</td>\n",
       "      <td>6.00</td>\n",
       "    </tr>\n",
       "  </tbody>\n",
       "</table>\n",
       "</div>"
      ],
      "text/plain": [
       "                          0          1             2                3  \\\n",
       "DADOS                Titulo  Tipologia  Área Terreno  Área Construída   \n",
       "Unnamed: 1  Projeto 4 - Je3          2        250.00           257.00   \n",
       "\n",
       "                        4             5            6          7  \n",
       "DADOS       Área Fundação  Área Fachada  Área Parede  Qtde BWCs  \n",
       "Unnamed: 1         221.36        430.11       547.27       6.00  "
      ]
     },
     "execution_count": 42,
     "metadata": {},
     "output_type": "execute_result"
    }
   ],
   "source": [
    "teste = pd.read_csv('projeto_4.csv').head(8)\n",
    "teste = teste.replace({'Térrea':1,'Sobrado':2}).T\n",
    "teste = teste.replace(',', '.', regex=True)\n",
    "teste"
   ]
  },
  {
   "cell_type": "markdown",
   "id": "b0d3ca8b",
   "metadata": {},
   "source": [
    "## Concatenando dados"
   ]
  },
  {
   "cell_type": "code",
   "execution_count": 43,
   "id": "16c6318b",
   "metadata": {},
   "outputs": [
    {
     "data": {
      "text/html": [
       "<div>\n",
       "<style scoped>\n",
       "    .dataframe tbody tr th:only-of-type {\n",
       "        vertical-align: middle;\n",
       "    }\n",
       "\n",
       "    .dataframe tbody tr th {\n",
       "        vertical-align: top;\n",
       "    }\n",
       "\n",
       "    .dataframe thead th {\n",
       "        text-align: right;\n",
       "    }\n",
       "</style>\n",
       "<table border=\"1\" class=\"dataframe\">\n",
       "  <thead>\n",
       "    <tr style=\"text-align: right;\">\n",
       "      <th>DADOS</th>\n",
       "      <th>Tipologia</th>\n",
       "      <th>Área Terreno</th>\n",
       "      <th>Área Construída</th>\n",
       "      <th>Área Fundação</th>\n",
       "      <th>Área Fachada</th>\n",
       "      <th>Área Parede</th>\n",
       "      <th>Qtde BWCs</th>\n",
       "      <th>Valor</th>\n",
       "    </tr>\n",
       "  </thead>\n",
       "  <tbody>\n",
       "    <tr>\n",
       "      <th>DADOS</th>\n",
       "      <td>Tipologia</td>\n",
       "      <td>Área Terreno</td>\n",
       "      <td>Área Construída</td>\n",
       "      <td>Área Fundação</td>\n",
       "      <td>Área Fachada</td>\n",
       "      <td>Área Parede</td>\n",
       "      <td>Qtde BWCs</td>\n",
       "      <td>Valor</td>\n",
       "    </tr>\n",
       "    <tr>\n",
       "      <th>X</th>\n",
       "      <td>1</td>\n",
       "      <td>485.00</td>\n",
       "      <td>246.63</td>\n",
       "      <td>237.98</td>\n",
       "      <td>597.88</td>\n",
       "      <td>615.86</td>\n",
       "      <td>5.00</td>\n",
       "      <td>3155184.5</td>\n",
       "    </tr>\n",
       "    <tr>\n",
       "      <th>Y</th>\n",
       "      <td>2</td>\n",
       "      <td>300.00</td>\n",
       "      <td>249.24</td>\n",
       "      <td>161.55</td>\n",
       "      <td>747.17</td>\n",
       "      <td>662.06</td>\n",
       "      <td>4.00</td>\n",
       "      <td>2570902.0</td>\n",
       "    </tr>\n",
       "    <tr>\n",
       "      <th>Z</th>\n",
       "      <td>2</td>\n",
       "      <td>500.00</td>\n",
       "      <td>425.00</td>\n",
       "      <td>378.31</td>\n",
       "      <td>521.67</td>\n",
       "      <td>581.76</td>\n",
       "      <td>6.00</td>\n",
       "      <td>4569025.2</td>\n",
       "    </tr>\n",
       "    <tr>\n",
       "      <th>Z1</th>\n",
       "      <td>2</td>\n",
       "      <td>500.00</td>\n",
       "      <td>425.00</td>\n",
       "      <td>378.31</td>\n",
       "      <td>521.67</td>\n",
       "      <td>581.76</td>\n",
       "      <td>6.00</td>\n",
       "      <td>3155184.5</td>\n",
       "    </tr>\n",
       "  </tbody>\n",
       "</table>\n",
       "</div>"
      ],
      "text/plain": [
       "DADOS  Tipologia  Área Terreno  Área Construída  Área Fundação  Área Fachada  \\\n",
       "DADOS  Tipologia  Área Terreno  Área Construída  Área Fundação  Área Fachada   \n",
       "X              1        485.00           246.63         237.98        597.88   \n",
       "Y              2        300.00           249.24         161.55        747.17   \n",
       "Z              2        500.00           425.00         378.31        521.67   \n",
       "Z1             2        500.00           425.00         378.31        521.67   \n",
       "\n",
       "DADOS  Área Parede  Qtde BWCs      Valor  \n",
       "DADOS  Área Parede  Qtde BWCs      Valor  \n",
       "X           615.86       5.00  3155184.5  \n",
       "Y           662.06       4.00  2570902.0  \n",
       "Z           581.76       6.00  4569025.2  \n",
       "Z1          581.76       6.00  3155184.5  "
      ]
     },
     "execution_count": 43,
     "metadata": {},
     "output_type": "execute_result"
    }
   ],
   "source": [
    "dados = pd.concat([proj1, proj2['Y'],proj3['Z'],proj4['Z1']], axis=1)\n",
    "dados = dados.replace({'Térrea':1,'Sobrado':2}).T\n",
    "dados = dados.replace(',', '.', regex=True).astype(str)\n",
    "dados.columns = dados.iloc[0]\n",
    "dados"
   ]
  },
  {
   "cell_type": "markdown",
   "id": "7ce62ce9",
   "metadata": {},
   "source": [
    "# Análise Exploratória"
   ]
  },
  {
   "cell_type": "code",
   "execution_count": 44,
   "id": "cb716db4",
   "metadata": {},
   "outputs": [
    {
     "data": {
      "image/png": "[encoded data removed]",
      "text/plain": [
       "<Figure size 1200x1200 with 64 Axes>"
      ]
     },
     "metadata": {},
     "output_type": "display_data"
    }
   ],
   "source": [
    "d = dados[1:].reset_index().drop(['index'],axis=1).astype(float)\n",
    "pd.plotting.scatter_matrix(d,figsize=(12, 12),diagonal='hist');"
   ]
  },
  {
   "cell_type": "markdown",
   "id": "75cedc26",
   "metadata": {},
   "source": [
    "É possivel ver as correlações positivas entre 'Valor' e 'Qtde BWC','Area Fundação' e 'Area Terreno'.É importante notar que estas correlações não são perfeitas\n",
    "As variáveis de área são bastante correlacionadas"
   ]
  },
  {
   "cell_type": "code",
   "execution_count": 53,
   "id": "4eea5d57",
   "metadata": {},
   "outputs": [
    {
     "data": {
      "image/png": "[encoded data removed]",
      "text/plain": [
       "<Figure size 640x480 with 1 Axes>"
      ]
     },
     "metadata": {},
     "output_type": "display_data"
    },
    {
     "data": {
      "image/png": "[encoded data removed]",
      "text/plain": [
       "<Figure size 640x480 with 1 Axes>"
      ]
     },
     "metadata": {},
     "output_type": "display_data"
    },
    {
     "data": {
      "image/png": "[encoded data removed]",
      "text/plain": [
       "<Figure size 640x480 with 1 Axes>"
      ]
     },
     "metadata": {},
     "output_type": "display_data"
    },
    {
     "data": {
      "image/png": "[encoded data removed]",
      "text/plain": [
       "<Figure size 640x480 with 1 Axes>"
      ]
     },
     "metadata": {},
     "output_type": "display_data"
    },
    {
     "data": {
      "image/png": "[encoded data removed]",
      "text/plain": [
       "<Figure size 640x480 with 1 Axes>"
      ]
     },
     "metadata": {},
     "output_type": "display_data"
    },
    {
     "data": {
      "image/png": "[encoded data removed]",
      "text/plain": [
       "<Figure size 640x480 with 1 Axes>"
      ]
     },
     "metadata": {},
     "output_type": "display_data"
    },
    {
     "data": {
      "image/png": "[encoded data removed]",
      "text/plain": [
       "<Figure size 640x480 with 1 Axes>"
      ]
     },
     "metadata": {},
     "output_type": "display_data"
    },
    {
     "data": {
      "image/png": "[encoded data removed]",
      "text/plain": [
       "<Figure size 640x480 with 1 Axes>"
      ]
     },
     "metadata": {},
     "output_type": "display_data"
    }
   ],
   "source": [
    "import matplotlib.pyplot as plt\n",
    "\n",
    "for column in d:\n",
    "    plt.figure()\n",
    "    d.boxplot([column])"
   ]
  },
  {
   "cell_type": "markdown",
   "id": "9d233aa5",
   "metadata": {},
   "source": [
    "É possível perceber que Tipologia térrea(1) é um outlier,assim como Area do Terreno 300 e Valor do Orçamento 4569025.2"
   ]
  },
  {
   "cell_type": "markdown",
   "id": "8135e2ec",
   "metadata": {},
   "source": [
    "# Previsão do Orçamento"
   ]
  },
  {
   "cell_type": "markdown",
   "id": "be69dcd4",
   "metadata": {},
   "source": [
    "#### As variáveis correlacionadas serão removidas com o calculo do VIF"
   ]
  },
  {
   "cell_type": "code",
   "execution_count": 45,
   "id": "fcbcecc3",
   "metadata": {},
   "outputs": [
    {
     "data": {
      "text/html": [
       "<div>\n",
       "<style scoped>\n",
       "    .dataframe tbody tr th:only-of-type {\n",
       "        vertical-align: middle;\n",
       "    }\n",
       "\n",
       "    .dataframe tbody tr th {\n",
       "        vertical-align: top;\n",
       "    }\n",
       "\n",
       "    .dataframe thead th {\n",
       "        text-align: right;\n",
       "    }\n",
       "</style>\n",
       "<table border=\"1\" class=\"dataframe\">\n",
       "  <thead>\n",
       "    <tr style=\"text-align: right;\">\n",
       "      <th></th>\n",
       "      <th>VIF Factor</th>\n",
       "      <th>features</th>\n",
       "    </tr>\n",
       "  </thead>\n",
       "  <tbody>\n",
       "    <tr>\n",
       "      <th>0</th>\n",
       "      <td>8.860928</td>\n",
       "      <td>Tipologia</td>\n",
       "    </tr>\n",
       "    <tr>\n",
       "      <th>1</th>\n",
       "      <td>8.860928</td>\n",
       "      <td>Área Terreno</td>\n",
       "    </tr>\n",
       "  </tbody>\n",
       "</table>\n",
       "</div>"
      ],
      "text/plain": [
       "   VIF Factor      features\n",
       "0    8.860928     Tipologia\n",
       "1    8.860928  Área Terreno"
      ]
     },
     "execution_count": 45,
     "metadata": {},
     "output_type": "execute_result"
    }
   ],
   "source": [
    "from statsmodels.stats.outliers_influence import variance_inflation_factor\n",
    "# remover variaveis correlacionadas\n",
    "dados2 = dados.copy()\n",
    "dados2.columns = dados.iloc[0]\n",
    "dados2 = dados2[1:]\n",
    "dados2 = dados2.drop(dados2.columns[[2,3,4,5,6,7]], axis=1).apply(pd.to_numeric)\n",
    "\n",
    "# calcular VIF\n",
    "vif = pd.DataFrame()\n",
    "vif[\"VIF Factor\"] = [variance_inflation_factor(dados2.values, i) for i in range(dados2.shape[1])]\n",
    "vif[\"features\"] = dados2.columns\n",
    "vif"
   ]
  },
  {
   "cell_type": "markdown",
   "id": "e3048bb0",
   "metadata": {},
   "source": [
    "#### Várias combinações foram testadads,mas o menor VIF foi obtido com as variáveis Tipologia e Area do Terreno. Estas duas variáveis serão utilizadas na regressão linear.\n",
    "#### A regressão linear foi escolhida pela relação linear entre o valor e as variáveis,observada na análise exploratória.Um modelo de árvore regressiva não teria melhores resultados que a regressão."
   ]
  },
  {
   "cell_type": "code",
   "execution_count": 46,
   "id": "f55acf53",
   "metadata": {},
   "outputs": [
    {
     "name": "stdout",
     "output_type": "stream",
     "text": [
      "sklearn MAPE: 0.09\n"
     ]
    }
   ],
   "source": [
    "from sklearn.linear_model import LinearRegression\n",
    "from sklearn.metrics import mean_absolute_percentage_error\n",
    "\n",
    "X = dados2[['Tipologia','Área Terreno' ]].apply(pd.to_numeric)\n",
    "X = X.to_numpy()\n",
    "y = dados['Valor'][1:].apply(pd.to_numeric).to_numpy()\n",
    "reg = LinearRegression().fit(X, y)\n",
    "reg.score(X, y)\n",
    "y_pred = reg.predict(X)\n",
    "\n",
    "mape = mean_absolute_percentage_error(y, y_pred)\n",
    "print('sklearn MAPE: {:.2f}'.format(mape))"
   ]
  },
  {
   "cell_type": "markdown",
   "id": "c6f46ebd",
   "metadata": {},
   "source": [
    "#### O MAPE é de 9%,ou seja, Acurácia de 91%"
   ]
  },
  {
   "cell_type": "code",
   "execution_count": 47,
   "id": "129bb74e",
   "metadata": {},
   "outputs": [
    {
     "data": {
      "text/html": [
       "<div>\n",
       "<style scoped>\n",
       "    .dataframe tbody tr th:only-of-type {\n",
       "        vertical-align: middle;\n",
       "    }\n",
       "\n",
       "    .dataframe tbody tr th {\n",
       "        vertical-align: top;\n",
       "    }\n",
       "\n",
       "    .dataframe thead th {\n",
       "        text-align: right;\n",
       "    }\n",
       "</style>\n",
       "<table border=\"1\" class=\"dataframe\">\n",
       "  <thead>\n",
       "    <tr style=\"text-align: right;\">\n",
       "      <th></th>\n",
       "      <th>Orçamento</th>\n",
       "      <th>Orçamento Previsto</th>\n",
       "      <th>Erro Absoluto</th>\n",
       "      <th>Erro Percentual(%)</th>\n",
       "    </tr>\n",
       "  </thead>\n",
       "  <tbody>\n",
       "    <tr>\n",
       "      <th>0</th>\n",
       "      <td>3155184.5</td>\n",
       "      <td>3155184.50</td>\n",
       "      <td>0.00</td>\n",
       "      <td>0.0</td>\n",
       "    </tr>\n",
       "    <tr>\n",
       "      <th>1</th>\n",
       "      <td>2570902.0</td>\n",
       "      <td>2570902.00</td>\n",
       "      <td>0.00</td>\n",
       "      <td>0.0</td>\n",
       "    </tr>\n",
       "    <tr>\n",
       "      <th>2</th>\n",
       "      <td>4569025.2</td>\n",
       "      <td>3862104.85</td>\n",
       "      <td>706920.35</td>\n",
       "      <td>18.3</td>\n",
       "    </tr>\n",
       "    <tr>\n",
       "      <th>3</th>\n",
       "      <td>3155184.5</td>\n",
       "      <td>3862104.85</td>\n",
       "      <td>706920.35</td>\n",
       "      <td>18.3</td>\n",
       "    </tr>\n",
       "  </tbody>\n",
       "</table>\n",
       "</div>"
      ],
      "text/plain": [
       "   Orçamento  Orçamento Previsto  Erro Absoluto  Erro Percentual(%)\n",
       "0  3155184.5          3155184.50           0.00                 0.0\n",
       "1  2570902.0          2570902.00           0.00                 0.0\n",
       "2  4569025.2          3862104.85      706920.35                18.3\n",
       "3  3155184.5          3862104.85      706920.35                18.3"
      ]
     },
     "execution_count": 47,
     "metadata": {},
     "output_type": "execute_result"
    }
   ],
   "source": [
    "prev = reg.predict((teste[[1,2]].to_numpy()[1].astype(np.float)).reshape(1,-1)) \n",
    "orc = pd.DataFrame({'Orçamento': y,'Orçamento Previsto': y_pred})\n",
    "orc['Erro Absoluto']= abs(orc['Orçamento']-orc['Orçamento Previsto'])\n",
    "orc['Erro Percentual(%)'] = 100*orc['Erro Absoluto']/orc['Orçamento Previsto']\n",
    "orc.round(2)"
   ]
  },
  {
   "cell_type": "markdown",
   "id": "6b620c96",
   "metadata": {},
   "source": [
    "O máximo erro percentual será usado como erro na previsão do orçamento"
   ]
  },
  {
   "cell_type": "code",
   "execution_count": 48,
   "id": "d861d828",
   "metadata": {},
   "outputs": [
    {
     "name": "stdout",
     "output_type": "stream",
     "text": [
      "A previsão de orçamento é de R$ 2248101.3 +- 411492.9\n"
     ]
    }
   ],
   "source": [
    "print('A previsão de orçamento é de R$ {:.1f} +- {:.1f}'.format(prev[0],(max(orc['Erro Percentual(%)'])/100)*prev[0]))"
   ]
  },
  {
   "cell_type": "markdown",
   "id": "3c5805b3",
   "metadata": {},
   "source": [
    "### Historias"
   ]
  },
  {
   "cell_type": "markdown",
   "id": "c4864f5a",
   "metadata": {},
   "source": [
    "\n",
    "• Como orçamentista, eu gostaria de um previsão do orçamento da casa denominada \"Projeto 4\" em reais.\n",
    "\n"
   ]
  },
  {
   "cell_type": "code",
   "execution_count": 49,
   "id": "b5ce2166",
   "metadata": {},
   "outputs": [
    {
     "name": "stdout",
     "output_type": "stream",
     "text": [
      "A previsão de orçamento é de R$ 2248101.3\n"
     ]
    }
   ],
   "source": [
    "print('A previsão de orçamento é de R$ {:.1f}'.format(prev[0]))"
   ]
  },
  {
   "cell_type": "code",
   "execution_count": null,
   "id": "b0617445",
   "metadata": {},
   "outputs": [],
   "source": []
  },
  {
   "cell_type": "markdown",
   "id": "b6d1e427",
   "metadata": {},
   "source": [
    "• Como engenheiro responsável pelo projeto, eu gostaria de ter a documentação completa do método usado para chegar ao valor previsto para o \"Projeto 4\", incluindo cálculos.\n"
   ]
  },
  {
   "cell_type": "code",
   "execution_count": 52,
   "id": "8deb3b9a",
   "metadata": {},
   "outputs": [
    {
     "name": "stdout",
     "output_type": "stream",
     "text": [
      "Os cálculos foram mostrados nesse notebook jupyter\n",
      "Regressão linear\n",
      "intercepto -586062.5475000008\n",
      "coeficicentes de Tipologia e Area do Terreno [610080.13625   6456.01425]\n"
     ]
    }
   ],
   "source": [
    "print(\"Os cálculos foram mostrados nesse notebook jupyter\")\n",
    "print(\"Regressão linear\")\n",
    "print(\"intercepto\",reg.intercept_)\n",
    "print(\"coeficicentes de Tipologia e Area do Terreno\",reg.coef_)"
   ]
  },
  {
   "cell_type": "code",
   "execution_count": null,
   "id": "4394fccd",
   "metadata": {},
   "outputs": [],
   "source": []
  },
  {
   "cell_type": "markdown",
   "id": "91db4306",
   "metadata": {},
   "source": [
    "• Como gerente comercial da conta do cliente do \"Projeto 4\", eu gostaria de ter uma base estatística para indicar o quão aproximado o valor estipulado está da realidade, e no caso de variação, quanto esse valor pode variar.\n"
   ]
  },
  {
   "cell_type": "code",
   "execution_count": 51,
   "id": "7c126653",
   "metadata": {},
   "outputs": [
    {
     "name": "stdout",
     "output_type": "stream",
     "text": [
      "A previsão de orçamento é de R$ 2248101.3 +- 411492.9\n"
     ]
    }
   ],
   "source": [
    "print('A previsão de orçamento é de R$ {:.1f} +- {:.1f}'.format(prev[0],(max(orc['Erro Percentual(%)'])/100)*prev[0]))"
   ]
  },
  {
   "cell_type": "code",
   "execution_count": null,
   "id": "d0abaaae",
   "metadata": {},
   "outputs": [],
   "source": []
  },
  {
   "cell_type": "markdown",
   "id": "452cc194",
   "metadata": {},
   "source": [
    "• Como responsável pela gestão de risco de projetos, eu gostaria de entender o risco implícito nessa previsão, indicando o que pode impactar em outliers ou variações acima do previsto."
   ]
  },
  {
   "cell_type": "markdown",
   "id": "0f5ff2e4",
   "metadata": {},
   "source": [
    "Como só tenho 4 orçamentos seria interessante obter mais orçamentos para avaliar o risco,mas nos orçamentos analisados o erro não foi\n",
    "maior que +-18.3% do valor previsto."
   ]
  },
  {
   "cell_type": "code",
   "execution_count": null,
   "id": "c1f4054f",
   "metadata": {},
   "outputs": [],
   "source": []
  }
 ],
 "metadata": {
  "kernelspec": {
   "display_name": "Python 3 (ipykernel)",
   "language": "python",
   "name": "python3"
  },
  "language_info": {
   "codemirror_mode": {
    "name": "ipython",
    "version": 3
   },
   "file_extension": ".py",
   "mimetype": "text/x-python",
   "name": "python",
   "nbconvert_exporter": "python",
   "pygments_lexer": "ipython3",
   "version": "3.7.16"
  }
 },
 "nbformat": 4,
 "nbformat_minor": 5
}
